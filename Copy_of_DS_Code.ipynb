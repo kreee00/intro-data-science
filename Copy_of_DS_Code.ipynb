{
  "nbformat": 4,
  "nbformat_minor": 0,
  "metadata": {
    "colab": {
      "provenance": [],
      "include_colab_link": true
    },
    "kernelspec": {
      "name": "ir",
      "display_name": "R"
    },
    "language_info": {
      "name": "R"
    }
  },
  "cells": [
    {
      "cell_type": "markdown",
      "metadata": {
        "id": "view-in-github",
        "colab_type": "text"
      },
      "source": [
        "<a href=\"https://colab.research.google.com/github/kreee00/intro-data-science/blob/main/Copy_of_DS_Code.ipynb\" target=\"_parent\"><img src=\"https://colab.research.google.com/assets/colab-badge.svg\" alt=\"Open In Colab\"/></a>"
      ]
    },
    {
      "cell_type": "markdown",
      "source": [
        "# **RECOMMENDER SYSTEM**\n",
        "\n",
        "---\n",
        "\n",
        "GROUP ASSIGNMENT - DATA SCIENCE - TEB2043\n",
        "\n",
        "| No | Name | ID | UTP Email |\n",
        "| --- | --- | --- | --- |\n",
        "| 1 | LU HOU YANG | 22012138 | lu_22012138@utp.edu.my |\n",
        "| 2 | MOHAMAD AKRAM BIN MOHD FAISAL | 22006626 | mohamad_22006626@utp.edu.my |\n",
        "| 3 | SHARVIN A/L KANESAN | 22006930 | sharvin_22006930@utp.edu.my |\n",
        "| 4 | MYRA AMANI AMRAN | 22006851 | myra_22006851@utp.edu.my |\n",
        "\n"
      ],
      "metadata": {
        "id": "zHymNTerRA1b"
      }
    },
    {
      "cell_type": "markdown",
      "source": [
        "## **Install Packages**"
      ],
      "metadata": {
        "id": "rxTCEspiR24X"
      }
    },
    {
      "cell_type": "code",
      "source": [
        "install.packages(\"readr\")\n",
        "install.packages(\"googledrive\")\n",
        "install.packages(\"ggplot2\")\n",
        "install.packages(\"dplyr\")\n",
        "install.packages(\"tidyverse\")\n",
        "install.packages(\"recommenderlab\")\n",
        "install.packages(\"tidyr\")\n",
        "install.packages(\"xgboost\")\n",
        "install.packages(\"Matrix\")\n",
        "install.packages(\"caret\")\n",
        "install.packages(\"data.table\")"
      ],
      "metadata": {
        "colab": {
          "base_uri": "https://localhost:8080/"
        },
        "id": "YpmmBXMmbIaJ",
        "outputId": "9d4dfefa-6aea-411c-8278-d68e4755d48f"
      },
      "execution_count": null,
      "outputs": [
        {
          "output_type": "stream",
          "name": "stderr",
          "text": [
            "Installing package into ‘/usr/local/lib/R/site-library’\n",
            "(as ‘lib’ is unspecified)\n",
            "\n",
            "Warning message in install.packages(\"readr\"):\n",
            "“installation of package ‘readr’ had non-zero exit status”\n",
            "Installing package into ‘/usr/local/lib/R/site-library’\n",
            "(as ‘lib’ is unspecified)\n",
            "\n",
            "Warning message in install.packages(\"googledrive\"):\n",
            "“installation of package ‘googledrive’ had non-zero exit status”\n",
            "Installing package into ‘/usr/local/lib/R/site-library’\n",
            "(as ‘lib’ is unspecified)\n",
            "\n",
            "Warning message in install.packages(\"ggplot2\"):\n",
            "“installation of package ‘ggplot2’ had non-zero exit status”\n",
            "Installing package into ‘/usr/local/lib/R/site-library’\n",
            "(as ‘lib’ is unspecified)\n",
            "\n",
            "Installing package into ‘/usr/local/lib/R/site-library’\n",
            "(as ‘lib’ is unspecified)\n",
            "\n",
            "Installing package into ‘/usr/local/lib/R/site-library’\n",
            "(as ‘lib’ is unspecified)\n",
            "\n",
            "also installing the dependencies ‘float’, ‘RcppProgress’, ‘arules’, ‘proxy’, ‘registry’, ‘irlba’, ‘recosystem’, ‘matrixStats’\n",
            "\n",
            "\n",
            "Warning message in install.packages(\"recommenderlab\"):\n",
            "“installation of package ‘matrixStats’ had non-zero exit status”\n",
            "Warning message in install.packages(\"recommenderlab\"):\n",
            "“installation of package ‘recosystem’ had non-zero exit status”\n",
            "Warning message in install.packages(\"recommenderlab\"):\n",
            "“installation of package ‘recommenderlab’ had non-zero exit status”\n",
            "Installing package into ‘/usr/local/lib/R/site-library’\n",
            "(as ‘lib’ is unspecified)\n",
            "\n",
            "Warning message in install.packages(\"tidyr\"):\n",
            "“installation of package ‘tidyr’ had non-zero exit status”\n",
            "Installing package into ‘/usr/local/lib/R/site-library’\n",
            "(as ‘lib’ is unspecified)\n",
            "\n",
            "Warning message in install.packages(\"xgboost\"):\n",
            "“installation of package ‘xgboost’ had non-zero exit status”\n",
            "Installing package into ‘/usr/local/lib/R/site-library’\n",
            "(as ‘lib’ is unspecified)\n",
            "\n"
          ]
        }
      ]
    },
    {
      "cell_type": "code",
      "source": [
        "library(readr)\n",
        "library(googledrive)\n",
        "library(ggplot2)\n",
        "library(dplyr)\n",
        "library(tidyverse)\n",
        "library(recommenderlab)\n",
        "library(tidyr)\n",
        "library(xgboost)\n",
        "library(Matrix)\n",
        "library(caret)\n",
        "library(data.table)"
      ],
      "metadata": {
        "id": "OsjIoR7_indi",
        "colab": {
          "base_uri": "https://localhost:8080/"
        },
        "outputId": "c5ac4bcb-8d0f-423d-d919-24e94921a13e"
      },
      "execution_count": null,
      "outputs": [
        {
          "output_type": "stream",
          "name": "stderr",
          "text": [
            "\n",
            "Attaching package: ‘data.table’\n",
            "\n",
            "\n",
            "The following objects are masked from ‘package:lubridate’:\n",
            "\n",
            "    hour, isoweek, mday, minute, month, quarter, second, wday, week,\n",
            "    yday, year\n",
            "\n",
            "\n",
            "The following object is masked from ‘package:purrr’:\n",
            "\n",
            "    transpose\n",
            "\n",
            "\n",
            "The following objects are masked from ‘package:dplyr’:\n",
            "\n",
            "    between, first, last\n",
            "\n",
            "\n"
          ]
        }
      ]
    },
    {
      "cell_type": "markdown",
      "source": [
        "## **Download Dataset**"
      ],
      "metadata": {
        "id": "u6Go09nfRAqu"
      }
    },
    {
      "cell_type": "markdown",
      "source": [
        "Answer `1`: Yes when prompted. Click the link and give relevant access to tidyverse. Copy the token and wait for the files to be downloaded."
      ],
      "metadata": {
        "id": "282mGiWrPV0i"
      }
    },
    {
      "cell_type": "code",
      "source": [
        "file_ids <- c(\n",
        "  \"1T2V_NrGkhNmRupyN7pu6Vwta-x0Emcef\", # links\n",
        "  \"1zOXfYxhJayYmNj034m5aEWREoHECAUOs\", # movies\n",
        "  \"10io-cNsY3uYgsuoHHl59cfl5_Xzv4ret\", # ratings\n",
        "  \"1zsPDonH4-rHY40_jkjr_g-SGQzfb0-Jm\", # tags\n",
        "  \"1GBRDWnvYuIaiVb--S_mkAYI6N25g8nqT\", # checksums.txt\n",
        "  \"1A16Ax9pWz4UvbFOCcQDSD1vD0Zil0yxG\"  # README.txt\n",
        ")\n",
        "\n",
        "file_names <- c(\n",
        "  \"links.csv\",\n",
        "  \"movies.csv\",\n",
        "  \"ratings.csv\",\n",
        "  \"tags.csv\",\n",
        "  \"checksums.txt\",\n",
        "  \"README.txt\"\n",
        ")\n",
        "\n",
        "for (i in 1:length(file_ids)) {\n",
        "  drive_download(\n",
        "    as_id(file_ids[i]),\n",
        "    path = file_names[i],\n",
        "    overwrite = TRUE\n",
        "  )\n",
        "}\n"
      ],
      "metadata": {
        "colab": {
          "base_uri": "https://localhost:8080/"
        },
        "id": "oxyRZYIRi_q5",
        "outputId": "40632cc3-c129-46d2-d617-f3eabfe8ffea"
      },
      "execution_count": null,
      "outputs": [
        {
          "output_type": "stream",
          "name": "stderr",
          "text": [
            "\u001b[1m\u001b[22mThe \u001b[34mgoogledrive\u001b[39m package is requesting access to your Google account.\n",
            "Enter '1' to start a new auth process or select a pre-authorized account.\n",
            "\u001b[1m1\u001b[22m: Send me to the browser for a new auth process.\n",
            "\u001b[1m2\u001b[22m: luhouyang@gmail.com\n"
          ]
        },
        {
          "name": "stdout",
          "output_type": "stream",
          "text": [
            "Selection: 2\n"
          ]
        },
        {
          "output_type": "stream",
          "name": "stderr",
          "text": [
            "Auto-refreshing stale OAuth token.\n",
            "\n",
            "File downloaded:\n",
            "\n",
            "• \u001b[36mlinks.csv\u001b[39m \u001b[90m<id: 1T2V_NrGkhNmRupyN7pu6Vwta-x0Emcef>\u001b[39m\n",
            "\n",
            "Saved locally as:\n",
            "\n",
            "• \u001b[34mlinks.csv\u001b[39m\n",
            "\n",
            "File downloaded:\n",
            "\n",
            "• \u001b[36mmovies.csv\u001b[39m \u001b[90m<id: 1zOXfYxhJayYmNj034m5aEWREoHECAUOs>\u001b[39m\n",
            "\n",
            "Saved locally as:\n",
            "\n",
            "• \u001b[34mmovies.csv\u001b[39m\n",
            "\n"
          ]
        }
      ]
    },
    {
      "cell_type": "markdown",
      "source": [
        "## **Preprocessing**"
      ],
      "metadata": {
        "id": "DNFIYGHsQKae"
      }
    },
    {
      "cell_type": "markdown",
      "source": [
        "### Dataset Profile"
      ],
      "metadata": {
        "id": "F94IRX_8R7gp"
      }
    },
    {
      "cell_type": "code",
      "source": [
        "ratings <- read_csv(\"ratings.csv\")\n",
        "movies <- read_csv(\"movies.csv\")\n",
        "links <- read_csv(\"links.csv\")\n",
        "tags <- read_csv(\"tags.csv\")"
      ],
      "metadata": {
        "id": "aT-vtSahasYs"
      },
      "execution_count": null,
      "outputs": []
    },
    {
      "cell_type": "code",
      "source": [
        "head(ratings)\n",
        "head(movies)\n",
        "head(links)\n",
        "head(tags)"
      ],
      "metadata": {
        "id": "DY-gX-HeghWt"
      },
      "execution_count": null,
      "outputs": []
    },
    {
      "cell_type": "code",
      "source": [
        "spec(ratings)\n",
        "spec(movies)\n",
        "spec(links)\n",
        "spec(tags)"
      ],
      "metadata": {
        "id": "I6Fzi6SaPwb_"
      },
      "execution_count": null,
      "outputs": []
    },
    {
      "cell_type": "markdown",
      "source": [
        "### Preprocessing"
      ],
      "metadata": {
        "id": "K_d6IQibS_u4"
      }
    },
    {
      "cell_type": "markdown",
      "source": [
        "Filter for duplicates\n",
        "\n",
        "![image.png](data:image/png;base64,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)\n",
        "\n",
        "Code\n",
        "\n",
        "```python\n",
        "import os\n",
        "import polars as pl\n",
        "\n",
        "\n",
        "def find_duplicates(file_path):\n",
        "    df = pl.read_csv(file_path)\n",
        "\n",
        "    duplicates = df.filter(df.is_duplicated())\n",
        "    return duplicates\n",
        "\n",
        "\n",
        "def fix_duplicates(file_path, keep='first'):\n",
        "    df = pl.read_csv(file_path)\n",
        "\n",
        "    df_cleaned = df.unique(keep=keep)\n",
        "    df_cleaned.write_csv(file_path)\n",
        "\n",
        "\n",
        "def main():\n",
        "    base_dir = r\"D:\\storage\\ml-32m\\ml-32m\"\n",
        "    files = ['movies.csv', 'ratings.csv', 'tags.csv', 'links.csv']\n",
        "\n",
        "    for file_name in files:\n",
        "        file_path = os.path.join(base_dir, file_name)\n",
        "\n",
        "        print(f\"Checking duplicates in {file_name}\")\n",
        "        duplicates = find_duplicates(file_path)\n",
        "        if duplicates is not None and not duplicates.is_empty():\n",
        "            print(f\"Duplicates found in {file_name}:\")\n",
        "            print(duplicates)\n",
        "            fix_duplicates(file_path)\n",
        "        else:\n",
        "            print(f\"No duplicates found in {file_name}\")\n",
        "\n",
        "\n",
        "if __name__ == \"__main__\":\n",
        "    main()\n",
        "```"
      ],
      "metadata": {
        "id": "9eL2msv8Sjp1"
      }
    },
    {
      "cell_type": "code",
      "source": [
        "dataframes <- list(ratings = ratings, movies = movies, links = links, tags = tags)"
      ],
      "metadata": {
        "id": "OuEvCOGpZezq"
      },
      "execution_count": null,
      "outputs": []
    },
    {
      "cell_type": "code",
      "source": [
        "summarize_dataframes <- function(dataframes) {\n",
        "  for (name in names(dataframes)) {\n",
        "    cat(\"\\nSummary for:\", name, \"\\n\")\n",
        "    print(summary(dataframes[[name]]))\n",
        "    cat(\"\\n------------------------------\\n\")\n",
        "  }\n",
        "}"
      ],
      "metadata": {
        "id": "Al6PNlCem8gV"
      },
      "execution_count": null,
      "outputs": []
    },
    {
      "cell_type": "code",
      "source": [
        "summarize_dataframes(dataframes)"
      ],
      "metadata": {
        "id": "KGUT-p63nFMg"
      },
      "execution_count": null,
      "outputs": []
    },
    {
      "cell_type": "markdown",
      "source": [
        "Check for missing data:\n",
        "\n",
        "- Missing rating will be replaced with mean\n",
        "\n",
        "- Other rows for missing categorical or unique values will be dropped if the movieId or userId is missing"
      ],
      "metadata": {
        "id": "8TMx0ilzZBxO"
      }
    },
    {
      "cell_type": "code",
      "source": [
        "clean_missing_data <- function(df, df_name) {\n",
        "  cat(\"\\nHandling missing data for:\", df_name, \"\\n\")\n",
        "\n",
        "  initial_rows <- nrow(df)\n",
        "\n",
        "  if (\"rating\" %in% colnames(df)) {\n",
        "    na_count <- sum(is.na(df$rating))\n",
        "    mean_rating <- mean(df$rating, na.rm = TRUE)\n",
        "    df$rating[is.na(df$rating)] <- mean_rating\n",
        "    cat(\"Replaced\", na_count, \"NA values in 'rating' with mean:\", mean_rating, \"\\n\")\n",
        "  }\n",
        "\n",
        "  if (\"movieId\" %in% colnames(df) & \"userId\" %in% colnames(df)) {\n",
        "    rows_with_na <- sum(is.na(df$movieId) | is.na(df$userId))\n",
        "    df <- df[!is.na(df$movieId) & !is.na(df$userId), ]\n",
        "    cat(\"Removed\", rows_with_na, \"rows due to missing 'movieId' or 'userId'\\n\")\n",
        "  }\n",
        "\n",
        "  removed_rows <- initial_rows - nrow(df)\n",
        "  cat(\"Total rows removed:\", removed_rows, \"\\n\")\n",
        "\n",
        "  return(df)\n",
        "}"
      ],
      "metadata": {
        "id": "kHRpZC9KZMWC"
      },
      "execution_count": null,
      "outputs": []
    },
    {
      "cell_type": "code",
      "source": [
        "for (name in names(dataframes)) {\n",
        "  dataframes[[name]] <- clean_missing_data(dataframes[[name]], name)\n",
        "}"
      ],
      "metadata": {
        "id": "HWtE5uZKZMKJ"
      },
      "execution_count": null,
      "outputs": []
    },
    {
      "cell_type": "markdown",
      "source": [
        "Use Box Plots & Scatter Plots to visualize & identify outliers"
      ],
      "metadata": {
        "id": "CM0OWM58Y1Vb"
      }
    },
    {
      "cell_type": "code",
      "source": [
        "plot_rating_boxplot <- function(df) {\n",
        "  if (\"rating\" %in% colnames(df)) {\n",
        "    p <- ggplot(df, aes(x = \"\", y = rating)) +\n",
        "      geom_boxplot(fill = \"blue\", alpha = 0.5) +\n",
        "      labs(title = \"Boxplot of Rating\", y = \"Rating\") +\n",
        "      theme_minimal()\n",
        "    print(p)\n",
        "\n",
        "    rm(p)\n",
        "    gc()\n",
        "  }\n",
        "}\n",
        "\n",
        "\n",
        "plot_imdbId_length <- function(df) {\n",
        "  if (\"imdbId\" %in% colnames(df)) {\n",
        "    df$imdb_length <- nchar(as.character(df$imdbId))\n",
        "\n",
        "    p <- ggplot(df, aes(x = imdb_length)) +\n",
        "      geom_histogram(fill = \"green\", bins = 10, alpha = 0.5) +\n",
        "      labs(title = \"Histogram of IMDb ID Length\", x = \"IMDb ID Length\", y = \"Count\") +\n",
        "      theme_minimal()\n",
        "    print(p)\n",
        "\n",
        "    rm(p)\n",
        "    gc()\n",
        "  }\n",
        "}\n",
        "\n",
        "check_genre_typos <- function(df) {\n",
        "  valid_genres <- c(\"Action\", \"Adventure\", \"Animation\", \"Children's\", \"Comedy\",\n",
        "                    \"Crime\", \"Documentary\", \"Drama\", \"Fantasy\", \"Film-Noir\",\n",
        "                    \"Horror\", \"Musical\", \"Mystery\", \"Romance\", \"Sci-Fi\",\n",
        "                    \"Thriller\", \"War\", \"Western\", \"(no genres listed)\")\n",
        "\n",
        "  if (\"genres\" %in% colnames(df)) {\n",
        "    genre_list <- unique(unlist(strsplit(df$genres, \"\\\\|\")))\n",
        "    typos <- setdiff(genre_list, valid_genres)\n",
        "\n",
        "    if (length(typos) > 0) {\n",
        "      cat(\"Possible typos in genres:\\n\", paste(typos, collapse = \", \"), \"\\n\")\n",
        "    } else {\n",
        "      cat(\"No typos found in genres.\\n\")\n",
        "    }\n",
        "  }\n",
        "}\n",
        "\n",
        "plot_tag_length <- function(df) {\n",
        "  if (\"tag\" %in% colnames(df)) {\n",
        "    df$tag_length <- nchar(as.character(df$tag))\n",
        "\n",
        "    p <- ggplot(df, aes(x = tag_length)) +\n",
        "      geom_histogram(fill = \"red\", bins = 20, alpha = 0.5) +\n",
        "      labs(title = \"Histogram of Tag Length\", x = \"Tag Length\", y = \"Count\") +\n",
        "      theme_minimal()\n",
        "    print(p)\n",
        "\n",
        "    rm(p)\n",
        "    gc()\n",
        "  }\n",
        "}"
      ],
      "metadata": {
        "id": "-P5h--BxReoZ"
      },
      "execution_count": null,
      "outputs": []
    },
    {
      "cell_type": "code",
      "source": [
        "plot_rating_boxplot(dataframes[[\"ratings\"]])"
      ],
      "metadata": {
        "id": "eLYldkJ9Y02a"
      },
      "execution_count": null,
      "outputs": []
    },
    {
      "cell_type": "code",
      "source": [
        "plot_imdbId_length(dataframes[[\"links\"]])"
      ],
      "metadata": {
        "id": "fvOO_iBdiNwl"
      },
      "execution_count": null,
      "outputs": []
    },
    {
      "cell_type": "code",
      "source": [
        "check_genre_typos(dataframes[[\"movies\"]])"
      ],
      "metadata": {
        "id": "Vn-Z2aIViN4d"
      },
      "execution_count": null,
      "outputs": []
    },
    {
      "cell_type": "code",
      "source": [
        "plot_tag_length(dataframes[[\"tags\"]])"
      ],
      "metadata": {
        "id": "B_FT-Vn1iOA-"
      },
      "execution_count": null,
      "outputs": []
    },
    {
      "cell_type": "markdown",
      "source": [
        "Fix `Children` genre typo to `Children's`"
      ],
      "metadata": {
        "id": "Rs_iNP-CkyIK"
      }
    },
    {
      "cell_type": "code",
      "source": [
        "check_and_fix_genres <- function(df) {\n",
        "  valid_genres <- c(\"Action\", \"Adventure\", \"Animation\", \"Children's\", \"Comedy\",\n",
        "                    \"Crime\", \"Documentary\", \"Drama\", \"Fantasy\", \"Film-Noir\",\n",
        "                    \"Horror\", \"Musical\", \"Mystery\", \"Romance\", \"Sci-Fi\",\n",
        "                    \"Thriller\", \"War\", \"Western\", \"(no genres listed)\")\n",
        "\n",
        "  if (\"genres\" %in% colnames(df)) {\n",
        "    df$genres <- gsub(\"\\\\bChildren\\\\b\", \"Children's\", df$genres)\n",
        "\n",
        "    genre_list <- unique(unlist(strsplit(df$genres, \"\\\\|\")))\n",
        "    typos <- setdiff(genre_list, valid_genres)\n",
        "\n",
        "    if (length(typos) > 0) {\n",
        "      cat(\"Possible typos in genres:\\n\", paste(typos, collapse = \", \"), \"\\n\")\n",
        "    } else {\n",
        "      cat(\"No typos found in genres.\\n\")\n",
        "    }\n",
        "  }\n",
        "\n",
        "  return(df)\n",
        "}"
      ],
      "metadata": {
        "id": "A16iWPt2jL50"
      },
      "execution_count": null,
      "outputs": []
    },
    {
      "cell_type": "code",
      "source": [
        "movies <- check_and_fix_genres(movies)"
      ],
      "metadata": {
        "id": "w0vbjBAdj2w0"
      },
      "execution_count": null,
      "outputs": []
    },
    {
      "cell_type": "markdown",
      "source": [
        "### Transformation"
      ],
      "metadata": {
        "id": "VjS01KouQDvm"
      }
    },
    {
      "cell_type": "markdown",
      "source": [
        "Coding `genre` into dummy variables"
      ],
      "metadata": {
        "id": "2sfgnPhuqIE1"
      }
    },
    {
      "cell_type": "code",
      "source": [
        "encode_genres <- function(df) {\n",
        "  if (\"genres\" %in% colnames(df)) {\n",
        "    df <- df %>%\n",
        "      separate_rows(genres, sep = \"\\\\|\") %>%\n",
        "      mutate(value = 1) %>%\n",
        "      pivot_wider(names_from = genres, values_from = value, values_fill = list(value = 0))\n",
        "  }\n",
        "  return(df)\n",
        "}"
      ],
      "metadata": {
        "id": "tHjs8ACZQDem"
      },
      "execution_count": null,
      "outputs": []
    },
    {
      "cell_type": "code",
      "source": [
        "movies <- encode_genres(movies)\n",
        "\n",
        "head(movies)\n",
        "summary(movies)"
      ],
      "metadata": {
        "id": "M4BGc_s-qU6p"
      },
      "execution_count": null,
      "outputs": []
    },
    {
      "cell_type": "markdown",
      "source": [
        "Merging dataset"
      ],
      "metadata": {
        "id": "tM2AamcOqN2h"
      }
    },
    {
      "cell_type": "code",
      "source": [
        "Sys.sleep(3)\n",
        "rm(ratings, movies, links, tags, dataframes)\n",
        "gc()"
      ],
      "metadata": {
        "id": "YPTevR6ZwK-T"
      },
      "execution_count": null,
      "outputs": []
    },
    {
      "cell_type": "code",
      "source": [
        "# merged_df <- ratings %>%\n",
        "#   inner_join(movies, by = \"movieId\") %>%\n",
        "#   left_join(tags, by = c(\"userId\", \"movieId\")) %>%\n",
        "#   left_join(links, by = \"movieId\")"
      ],
      "metadata": {
        "id": "ScRWr5xrqOX6"
      },
      "execution_count": null,
      "outputs": []
    },
    {
      "cell_type": "code",
      "source": [
        "# merged_df$tag[is.na(merged_df$tag)] <- \"\"\n",
        "\n",
        "# if (\"timestamp.y\" %in% colnames(merged_df)) {\n",
        "#   min_timestamp <- min(merged_df$timestamp.y, na.rm = TRUE)\n",
        "#   merged_df$timestamp.y[is.na(merged_df$timestamp.y)] <- min_timestamp\n",
        "# }"
      ],
      "metadata": {
        "id": "yz_vd3wHryEa"
      },
      "execution_count": null,
      "outputs": []
    },
    {
      "cell_type": "code",
      "source": [
        "# head(merged_df)\n",
        "# summary(merged_df)"
      ],
      "metadata": {
        "id": "04Lka1SgqyN4"
      },
      "execution_count": null,
      "outputs": []
    },
    {
      "cell_type": "markdown",
      "source": [
        "Utility function to get dataset"
      ],
      "metadata": {
        "id": "OrHUbByutjwu"
      }
    },
    {
      "cell_type": "code",
      "source": [
        "get_separated_dataframes <- function() {\n",
        "  rm(ratings, movies, links, tags, dataframes)\n",
        "  gc()\n",
        "\n",
        "  ratings <- read_csv(\"ratings.csv\")\n",
        "  movies <- read_csv(\"movies.csv\")\n",
        "  links <- read_csv(\"links.csv\")\n",
        "  tags <- read_csv(\"tags.csv\")\n",
        "\n",
        "  if (\"timestamp\" %in% colnames(ratings)) {\n",
        "    ratings <- ratings %>% select(-timestamp)\n",
        "  }\n",
        "\n",
        "  if (\"timestamp\" %in% colnames(tags)) {\n",
        "    tags <- tags %>% select(-timestamp)\n",
        "  }\n",
        "\n",
        "  movies <- check_and_fix_genres(movies)\n",
        "  movies <- encode_genres(movies)\n",
        "\n",
        "  dataframes <- list(ratings = ratings, movies = movies, links = links, tags = tags)\n",
        "\n",
        "  for (name in names(dataframes)) {\n",
        "    dataframes[[name]] <- clean_missing_data(dataframes[[name]], name)\n",
        "  }\n",
        "\n",
        "  rm(movies, ratings, tags, links)\n",
        "  gc()\n",
        "\n",
        "  return(dataframes)\n",
        "}"
      ],
      "metadata": {
        "id": "TPbIg2iOtmuy"
      },
      "execution_count": null,
      "outputs": []
    },
    {
      "cell_type": "code",
      "source": [
        "get_merged_dataframe <- function() {\n",
        "  rm(ratings, movies, links, tags, merged_df)\n",
        "  gc()\n",
        "\n",
        "  ratings <- read_csv(\"ratings.csv\")\n",
        "  movies <- read_csv(\"movies.csv\")\n",
        "  # links <- read_csv(\"links.csv\")\n",
        "  tags <- read_csv(\"tags.csv\")\n",
        "\n",
        "  movies <- check_and_fix_genres(movies)\n",
        "  movies <- encode_genres(movies)\n",
        "\n",
        "  if (\"timestamp\" %in% colnames(ratings)) {\n",
        "    ratings <- ratings %>% select(-timestamp)\n",
        "  }\n",
        "\n",
        "  if (\"timestamp\" %in% colnames(tags)) {\n",
        "    tags <- tags %>% select(-timestamp)\n",
        "  }\n",
        "\n",
        "  merged_df <- ratings %>%\n",
        "    inner_join(movies, by = \"movieId\") %>%\n",
        "    left_join(tags, by = c(\"userId\", \"movieId\"))\n",
        "\n",
        "  rm(ratings, movies, links, tags)\n",
        "\n",
        "  merged_df$tag[is.na(merged_df$tag)] <- \"\"\n",
        "\n",
        "  gc()\n",
        "\n",
        "  return(merged_df)\n",
        "}"
      ],
      "metadata": {
        "id": "n5sfuLrLuDcy"
      },
      "execution_count": null,
      "outputs": []
    },
    {
      "cell_type": "code",
      "source": [
        "# dataframes <- get_separated_dataframes()"
      ],
      "metadata": {
        "id": "4mQ1yBIB3qKk"
      },
      "execution_count": null,
      "outputs": []
    },
    {
      "cell_type": "code",
      "source": [
        "# merged_df <- get_merged_dataframe()"
      ],
      "metadata": {
        "id": "pyglqzLR3qDf"
      },
      "execution_count": null,
      "outputs": []
    },
    {
      "cell_type": "markdown",
      "source": [
        "## **EDA**"
      ],
      "metadata": {
        "id": "Bt3wqzCPTCqW"
      }
    },
    {
      "cell_type": "markdown",
      "source": [
        "Overview of dataframe"
      ],
      "metadata": {
        "id": "mg0XXM4m1nTB"
      }
    },
    {
      "cell_type": "markdown",
      "source": [
        "### Univariate"
      ],
      "metadata": {
        "id": "nJaCsn7xTFss"
      }
    },
    {
      "cell_type": "code",
      "source": [],
      "metadata": {
        "id": "Lrix_h43TE3f"
      },
      "execution_count": null,
      "outputs": []
    },
    {
      "cell_type": "markdown",
      "source": [
        "### Bivariate"
      ],
      "metadata": {
        "id": "5uLk_NSZTHKF"
      }
    },
    {
      "cell_type": "code",
      "source": [],
      "metadata": {
        "id": "4h5U_M5DTIwO"
      },
      "execution_count": null,
      "outputs": []
    },
    {
      "cell_type": "markdown",
      "source": [
        "## **Collaborative Filtering (User-based)**"
      ],
      "metadata": {
        "id": "bZwKLZyuTXZe"
      }
    },
    {
      "cell_type": "code",
      "source": [
        "library(readr)\n",
        "library(dplyr)\n",
        "library(Matrix)\n",
        "library(xgboost)\n",
        "library(caret)\n",
        "library(data.table)\n",
        "library(recommenderlab)\n",
        "\n",
        "# Function to clean missing data (using data.table for efficiency)\n",
        "clean_missing_data <- function(dt, dt_name) {\n",
        "  cat(\"\\nHandling missing data for:\", dt_name, \"\\n\")\n",
        "  initial_rows <- nrow(dt)\n",
        "\n",
        "  if (\"rating\" %in% names(dt)) {\n",
        "    na_count <- sum(is.na(dt$rating))\n",
        "    mean_rating <- mean(dt$rating, na.rm = TRUE)\n",
        "    dt[is.na(rating), rating := mean_rating]\n",
        "    cat(\"Replaced\", na_count, \"NA values in 'rating' with mean:\", mean_rating, \"\\n\")\n",
        "  }\n",
        "\n",
        "  if (\"movieId\" %in% names(dt) & \"userId\" %in% names(dt)) {\n",
        "    rows_with_na <- sum(is.na(dt$movieId) | is.na(dt$userId))\n",
        "    dt <- dt[!is.na(movieId) & !is.na(userId)]\n",
        "    cat(\"Removed\", rows_with_na, \"rows due to missing 'movieId' or 'userId'\\n\")\n",
        "  }\n",
        "\n",
        "  removed_rows <- initial_rows - nrow(dt)\n",
        "  cat(\"Total rows removed:\", removed_rows, \"\\n\")\n",
        "  return(dt)\n",
        "}\n",
        "\n",
        "# Function to check and fix genres\n",
        "check_and_fix_genres <- function(dt) {\n",
        "  valid_genres <- c(\"Action\", \"Adventure\", \"Animation\", \"Children's\", \"Comedy\",\n",
        "                    \"Crime\", \"Documentary\", \"Drama\", \"Fantasy\", \"Film-Noir\",\n",
        "                    \"Horror\", \"Musical\", \"Mystery\", \"Romance\", \"Sci-Fi\",\n",
        "                    \"Thriller\", \"War\", \"Western\", \"(no genres listed)\")\n",
        "\n",
        "  if (\"genres\" %in% names(dt)) {\n",
        "    dt[, genres := gsub(\"\\\\bChildren\\\\b\", \"Children's\", genres)]\n",
        "    genre_list <- unique(unlist(strsplit(dt$genres, \"\\\\|\")))\n",
        "    typos <- setdiff(genre_list, valid_genres)\n",
        "\n",
        "    if (length(typos) > 0) {\n",
        "      cat(\"Possible typos in genres:\\n\", paste(typos, collapse = \", \"), \"\\n\")\n",
        "    } else {\n",
        "      cat(\"No typos found in genres.\\n\")\n",
        "    }\n",
        "  }\n",
        "  return(dt)\n",
        "}\n",
        "\n",
        "# Function to encode genres\n",
        "encode_genres <- function(dt) {\n",
        "  if (\"genres\" %in% names(dt)) {\n",
        "    dt <- dt[, .(movieId, genres = unlist(strsplit(genres, \"\\\\|\")))]\n",
        "    dt <- dt[, value := 1][, dcast(.SD, movieId ~ genres, value.var = \"value\", fill = 0)]\n",
        "  }\n",
        "  return(dt)\n",
        "}\n",
        "\n",
        "# Function to get separated dataframes (using data.table)\n",
        "get_separated_dataframes <- function() {\n",
        "  ratings <- fread(\"ratings.csv\")\n",
        "  movies <- fread(\"movies.csv\")\n",
        "  tags <- fread(\"tags.csv\")\n",
        "\n",
        "  ratings[, timestamp := NULL]\n",
        "  tags[, timestamp := NULL]\n",
        "\n",
        "  movies <- check_and_fix_genres(movies)\n",
        "  movies <- encode_genres(movies)\n",
        "\n",
        "  dataframes <- list(ratings = ratings, movies = movies, tags = tags)\n",
        "\n",
        "  for (name in names(dataframes)) {\n",
        "    dataframes[[name]] <- clean_missing_data(dataframes[[name]], name)\n",
        "  }\n",
        "\n",
        "  return(dataframes)\n",
        "}\n",
        "\n",
        "# Load and prepare data\n",
        "dataframes <- get_separated_dataframes()\n",
        "ratings_dt <- dataframes$ratings\n",
        "movies_dt <- dataframes$movies\n",
        "tags_dt <- dataframes$tags\n",
        "rm(dataframes)\n",
        "gc()"
      ],
      "metadata": {
        "id": "7CBmFf0fTdwz"
      },
      "execution_count": null,
      "outputs": []
    },
    {
      "cell_type": "code",
      "source": [
        "# Function to create rating matrix\n",
        "create_rating_matrix <- function(ratings_dt) {\n",
        "  rating_matrix <- as(sparseMatrix(\n",
        "    i = as.integer(factor(ratings_dt$userId)),\n",
        "    j = as.integer(factor(ratings_dt$movieId)),\n",
        "    x = ratings_dt$rating,\n",
        "    dims = c(length(unique(ratings_dt$userId)), length(unique(ratings_dt$movieId))),\n",
        "    dimnames = list(\n",
        "      sort(unique(ratings_dt$userId)),\n",
        "      sort(unique(ratings_dt$movieId))\n",
        "    )\n",
        "  ), \"realRatingMatrix\")\n",
        "  return(rating_matrix)\n",
        "}\n",
        "\n",
        "# Function to split data\n",
        "split_data <- function(rating_matrix, train_perc = 0.8) {\n",
        "  eval_scheme <- evaluationScheme(\n",
        "    rating_matrix,\n",
        "    method = \"split\",\n",
        "    train = train_perc,\n",
        "    given = 10,\n",
        "    goodRating = 3.5\n",
        "  )\n",
        "  return(eval_scheme)\n",
        "}\n",
        "\n",
        "# Function to build CF model\n",
        "build_cf_model <- function(train_data) {\n",
        "  cf_model <- Recommender(\n",
        "    train_data,\n",
        "    method = \"UBCF\",\n",
        "    parameter = list(\n",
        "      method = \"cosine\",\n",
        "      nn = 30\n",
        "    )\n",
        "  )\n",
        "  return(cf_model)\n",
        "}\n",
        "\n",
        "# Function to get top recommendations\n",
        "get_top_recommendations <- function(model, user_id, n = 10) {\n",
        "  model_data <- getModel(model)$data\n",
        "\n",
        "  if (!(user_id %in% rownames(model_data))) {\n",
        "    stop(paste(\"User\", user_id, \"not found in the model data\"))\n",
        "  }\n",
        "\n",
        "  user_ratings <- model_data[user_id, ]\n",
        "  pred <- predict(model, newdata = user_ratings, n = n)\n",
        "  rec_list <- as(pred, \"list\")\n",
        "\n",
        "  rec_df <- data.frame(\n",
        "    movieId = as.numeric(names(rec_list[[1]])),\n",
        "    cf_rank = 1:length(rec_list[[1]]),\n",
        "    cf_score = rec_list[[1]]\n",
        "  )\n",
        "  return(rec_df)\n",
        "}"
      ],
      "metadata": {
        "id": "O5KSAUunTarx"
      },
      "execution_count": null,
      "outputs": []
    },
    {
      "cell_type": "code",
      "source": [
        "# Sample subset for faster development\n",
        "ratings_subset <- ratings_dt[sample(.N, min(500000, .N))]\n",
        "\n",
        "# Create rating matrix and split data\n",
        "rating_matrix <- create_rating_matrix(ratings_subset)\n",
        "eval_scheme <- split_data(rating_matrix)\n",
        "train_data <- getData(eval_scheme, \"train\")\n",
        "\n",
        "# Build CF model\n",
        "cf_model <- build_cf_model(train_data)"
      ],
      "metadata": {
        "id": "zVgEKGoPyQki"
      },
      "execution_count": null,
      "outputs": []
    },
    {
      "cell_type": "markdown",
      "source": [
        "## **Content-Based Model (XGBoost)**"
      ],
      "metadata": {
        "id": "dOqTOzARTb3j"
      }
    },
    {
      "cell_type": "code",
      "source": [
        "# Function to prepare XGBoost data\n",
        "prepare_xgboost_data_efficient <- function(ratings_dt, movies_dt, sample_size = 100000) {\n",
        "  set.seed(123)\n",
        "  if (nrow(ratings_dt) > sample_size) {\n",
        "    sampled_users <- sample(unique(ratings_dt$userId), size = min(10000, length(unique(ratings_dt$userId))))\n",
        "    ratings_sample <- ratings_dt[userId %in% sampled_users][sample(.N, min(sample_size, .N))]\n",
        "  } else {\n",
        "    ratings_sample <- ratings_dt\n",
        "  }\n",
        "\n",
        "  features_dt <- merge(ratings_sample, movies_dt, by = \"movieId\")\n",
        "  genre_cols <- setdiff(names(movies_dt), c(\"movieId\", \"title\"))\n",
        "\n",
        "  if (length(genre_cols) > 20) {\n",
        "    genre_counts <- colSums(features_dt[, ..genre_cols])\n",
        "    top_genres <- names(sort(genre_counts, decreasing = TRUE))[1:20]\n",
        "    genre_cols <- top_genres\n",
        "  }\n",
        "\n",
        "  X <- as.matrix(features_dt[, c(\"userId\", \"movieId\", genre_cols), with = FALSE])\n",
        "  y <- features_dt$rating\n",
        "\n",
        "  user_map <- setNames(1:length(unique(X[, \"userId\"])), unique(X[, \"userId\"]))\n",
        "  movie_map <- setNames(1:length(unique(X[, \"movieId\"])), unique(X[, \"movieId\"]))\n",
        "\n",
        "  X[, \"userId\"] <- user_map[as.character(X[, \"userId\"])]\n",
        "  X[, \"movieId\"] <- movie_map[as.character(X[, \"movieId\"])]\n",
        "\n",
        "  user_map_reverse <- setNames(names(user_map), user_map)\n",
        "  movie_map_reverse <- setNames(names(movie_map), movie_map)\n",
        "\n",
        "  train_idx <- createDataPartition(y, p = 0.8, list = FALSE)\n",
        "\n",
        "  X_train <- X[train_idx, ]\n",
        "  y_train <- y[train_idx]\n",
        "  X_test <- X[-train_idx, ]\n",
        "  y_test <- y[-train_idx]\n",
        "\n",
        "  dtrain <- xgb.DMatrix(data = X_train, label = y_train)\n",
        "  dtest <- xgb.DMatrix(data = X_test, label = y_test)\n",
        "\n",
        "  return(list(\n",
        "    dtrain = dtrain,\n",
        "    dtest = dtest,\n",
        "    X_train = X_train,\n",
        "    y_train = y_train,\n",
        "    X_test = X_test,\n",
        "    y_test = y_test,\n",
        "    feature_names = colnames(X_train),\n",
        "    user_map = user_map,\n",
        "    movie_map = movie_map,\n",
        "    user_map_reverse = user_map_reverse,\n",
        "    movie_map_reverse = movie_map_reverse\n",
        "  ))\n",
        "}"
      ],
      "metadata": {
        "id": "4IbCIiAcTek-"
      },
      "execution_count": null,
      "outputs": []
    },
    {
      "cell_type": "code",
      "source": [
        "# Prepare XGBoost data and train model\n",
        "xgb_data <- prepare_xgboost_data_efficient(ratings_subset, movies_dt, sample_size = 250000)\n",
        "xgb_model <- train_xgboost_model_efficient(xgb_data)"
      ],
      "metadata": {
        "id": "tozmonQOySXx"
      },
      "execution_count": null,
      "outputs": []
    },
    {
      "cell_type": "markdown",
      "source": [
        "## **Hybrid Model (weighted hybrid with item-item collaborative \t\tfiltering and XGBoost)**"
      ],
      "metadata": {
        "id": "V1bJDBdATgOI"
      }
    },
    {
      "cell_type": "code",
      "source": [
        "# Function to create hybrid recommendations\n",
        "create_hybrid_recommendations <- function(cf_recs, cb_recs, movies_dt, cf_weight = 0.7, cb_weight = 0.3, n = 10) {\n",
        "  cf_recs$cf_rank <- 1:nrow(cf_recs)\n",
        "  cf_recs$cf_score <- 1 - (cf_recs$cf_rank / nrow(cf_recs))\n",
        "\n",
        "  cb_recs$cb_score <- (cb_recs$predicted_rating - min(cb_recs$predicted_rating)) /\n",
        "    (max(cb_recs$predicted_rating) - min(cb_recs$predicted_rating))\n",
        "\n",
        "  hybrid_recs <- cf_recs %>%\n",
        "    select(movieId, cf_score) %>%\n",
        "    full_join(\n",
        "      cb_recs %>% select(movieId, cb_score),\n",
        "      by = \"movieId\"\n",
        "    )\n",
        "\n",
        "  hybrid_recs$cf_score[is.na(hybrid_recs$cf_score)] <- 0\n",
        "  hybrid_recs$cb_score[is.na(hybrid_recs$cb_score)] <- 0\n",
        "\n",
        "  hybrid_recs <- hybrid_recs %>%\n",
        "    mutate(hybrid_score = cf_weight * cf_score + cb_weight * cb_score) %>%\n",
        "    arrange(desc(hybrid_score)) %>%\n",
        "    head(n) %>%\n",
        "    left_join(movies_dt[, c(\"movieId\", \"title\")], by = \"movieId\")\n",
        "\n",
        "  return(hybrid_recs)\n",
        "}"
      ],
      "metadata": {
        "id": "a6C98H-kThRW"
      },
      "execution_count": null,
      "outputs": []
    },
    {
      "cell_type": "code",
      "source": [
        "# Example: Get recommendations for a specific user\n",
        "user_id <- as.character(sample(unique(ratings_subset$userId), 1))\n",
        "\n",
        "# Get CF recommendations\n",
        "cf_recs <- get_top_recommendations(cf_model, user_id, n = 50)\n",
        "\n",
        "# Get CB recommendations\n",
        "cb_recs <- predict_xgboost_ratings_efficient(xgb_model, xgb_data, as.numeric(user_id), movies_dt, top_n = 100)\n",
        "\n",
        "# Combine into hybrid recommendations\n",
        "hybrid_recs <- create_hybrid_recommendations(cf_recs, cb_recs, movies_dt, cf_weight = 0.7, cb_weight = 0.3, n = 10)\n",
        "\n",
        "# Display top 10 hybrid recommendations\n",
        "print(paste(\"Top 10 Hybrid Recommendations for user:\", user_id))\n",
        "print(hybrid_recs[, c(\"movieId\", \"title\", \"hybrid_score\", \"cf_score\", \"cb_score\")])"
      ],
      "metadata": {
        "id": "5MYHPLh8Vyqv"
      },
      "execution_count": null,
      "outputs": []
    },
    {
      "cell_type": "markdown",
      "source": [
        "## **Evaluate Model**"
      ],
      "metadata": {
        "id": "Bramql1iVDZg"
      }
    },
    {
      "cell_type": "code",
      "source": [
        "# Function to evaluate models\n",
        "evaluate_models <- function(cf_model, xgb_model, xgb_data, eval_scheme, movies_dt) {\n",
        "  # CF Evaluation\n",
        "  cf_eval <- evaluate(eval_scheme, method = \"UBCF\", parameter = list(method = \"cosine\", nn = 30), n = seq(1, 10, 1))\n",
        "  cat(\"Collaborative Filtering Evaluation:\\n\")\n",
        "  print(cf_eval)\n",
        "  plot(cf_eval, annotate = TRUE)\n",
        "\n",
        "  # XGBoost RMSE\n",
        "  cb_rmse <- sqrt(mean((predict(xgb_model, xgb_data$dtest) - xgb_data$y_test)^2))\n",
        "  cat(\"\\nContent-Based (XGBoost) RMSE:\", cb_rmse, \"\\n\")\n",
        "\n",
        "  #Precision and recall for CF model\n",
        "  cf_predictions <- predict(cf_model, newdata = getData(eval_scheme, \"known\"), type = \"topNList\", n = 10)\n",
        "  cf_actual <- getData(eval_scheme, \"unknown\")\n",
        "  cf_eval_results <- calcPredictionAccuracy(cf_predictions, cf_actual, given = 10, goodRating = 3.5)\n",
        "  cat(\"\\nCollaborative Filtering Precision:\", cf_eval_results[\"precision\"], \"\\n\")\n",
        "  cat(\"Collaborative Filtering Recall:\", cf_eval_results[\"recall\"], \"\\n\")\n",
        "\n",
        "  return(list(cf_eval = cf_eval, cb_rmse = cb_rmse, cf_precision = cf_eval_results[\"precision\"], cf_recall = cf_eval_results[\"recall\"]))\n",
        "}"
      ],
      "metadata": {
        "id": "of6Gne73VFOu"
      },
      "execution_count": null,
      "outputs": []
    },
    {
      "cell_type": "code",
      "source": [
        "# Evaluate models\n",
        "eval_results <- evaluate_models(cf_model, xgb_model, xgb_data, eval_scheme, movies_dt)\n",
        "\n",
        "#Access results\n",
        "print(paste(\"CF Precision:\", eval_results$cf_precision))\n",
        "print(paste(\"CF Recall:\", eval_results$cf_recall))\n",
        "print(paste(\"XGBoost RMSE:\", eval_results$cb_rmse))"
      ],
      "metadata": {
        "id": "Lmv2tQryTyYJ"
      },
      "execution_count": null,
      "outputs": []
    },
    {
      "cell_type": "code",
      "source": [],
      "metadata": {
        "id": "G7O2hJslXnwQ"
      },
      "execution_count": null,
      "outputs": []
    },
    {
      "cell_type": "code",
      "source": [
        "run_full_pipeline <- function(ratings_df, movies_df, sample_size = 250000, cf_weight = 0.7, cb_weight = 0.3) {\n",
        "  # Memory-efficient processing for the full dataset\n",
        "  cat(\"Starting recommender system pipeline for full dataset\\n\")\n",
        "\n",
        "  # 1. Sample data for training\n",
        "  cat(\"Sampling data...\\n\")\n",
        "  ratings_sample <- sample_subset(ratings_df,\n",
        "                                 max_users = min(10000, length(unique(ratings_df$userId))),\n",
        "                                 max_ratings_per_user = 100)\n",
        "\n",
        "  # 2. Build collaborative filtering model\n",
        "  cat(\"Building collaborative filtering model...\\n\")\n",
        "  rating_matrix <- create_rating_matrix(ratings_sample)\n",
        "  eval_scheme <- split_data(rating_matrix)\n",
        "  train_data <- getData(eval_scheme, \"train\")\n",
        "  cf_model <- build_cf_model(train_data)\n",
        "\n",
        "  # 3. Build content-based model with memory optimization\n",
        "  cat(\"Preparing data for content-based model...\\n\")\n",
        "  xgb_data <- prepare_xgboost_data_efficient(ratings_sample, movies_df, sample_size)\n",
        "\n",
        "  cat(\"Training XGBoost model...\\n\")\n",
        "  xgb_model <- train_xgboost_model_efficient(xgb_data)\n",
        "\n",
        "  # 4. Return the models and data\n",
        "  return(list(\n",
        "    cf_model = cf_model,\n",
        "    xgb_model = xgb_model,\n",
        "    xgb_data = xgb_data,\n",
        "    rating_matrix = rating_matrix,\n",
        "    movies_df = movies_df\n",
        "  ))\n",
        "}\n",
        "\n",
        "# Modified get_top_recommendations function\n",
        "get_top_recommendations <- function(model, user_id, n = 10) {\n",
        "  # Get all data the model was trained on\n",
        "  model_data <- getModel(model)$data\n",
        "\n",
        "  # Check if user exists in the model data\n",
        "  if(!(user_id %in% rownames(model_data))) {\n",
        "    stop(paste(\"User\", user_id, \"not found in the model data\"))\n",
        "  }\n",
        "\n",
        "  # Create a proper prediction vector based on the model's data\n",
        "  user_ratings <- model_data[user_id, ]\n",
        "\n",
        "  # Get predictions\n",
        "  pred <- predict(model, newdata = user_ratings, n = n)\n",
        "\n",
        "  # Extract recommendations\n",
        "  rec_list <- as(pred, \"list\")\n",
        "\n",
        "  # Convert to data frame\n",
        "  rec_df <- data.frame(\n",
        "    movieId = as.numeric(names(rec_list[[1]])),\n",
        "    cf_rank = 1:length(rec_list[[1]]),\n",
        "    cf_score = rec_list[[1]]\n",
        "  )\n",
        "\n",
        "  return(rec_df)\n",
        "}\n",
        "\n",
        "# And modify the hybrid recommendations function\n",
        "get_hybrid_recommendations <- function(models, user_id, n = 10, cf_weight = 0.7, cb_weight = 0.3) {\n",
        "  # Extract models and data\n",
        "  cf_model <- models$cf_model\n",
        "  xgb_model <- models$xgb_model\n",
        "  xgb_data <- models$xgb_data\n",
        "  rating_matrix <- models$rating_matrix\n",
        "  movies_df <- models$movies_df\n",
        "\n",
        "  # Check if user is in the training data for CF model\n",
        "  model_data <- getModel(cf_model)$data\n",
        "\n",
        "  if (user_id %in% rownames(model_data)) {\n",
        "    # Get CF recommendations\n",
        "    cf_recs <- tryCatch({\n",
        "      get_top_recommendations(cf_model, user_id, n = 50)\n",
        "    }, error = function(e) {\n",
        "      warning(\"CF failed: \", e$message)\n",
        "      data.frame(movieId = numeric(), cf_rank = numeric(), cf_score = numeric())\n",
        "    })\n",
        "\n",
        "\n",
        "  } else {\n",
        "    # User not in training data, use average recommendations\n",
        "    warning(\"User not in CF training data, using average recommendations\")\n",
        "    cf_recs <- data.frame(\n",
        "      movieId = sample(movies_df$movieId, 50),\n",
        "      cf_rank = 1:50\n",
        "    ) %>% left_join(movies_df[, c(\"movieId\", \"title\")], by = \"movieId\")\n",
        "  }\n",
        "\n",
        "  # Get CB recommendations\n",
        "  cb_recs <- predict_xgboost_ratings_efficient(\n",
        "    xgb_model, xgb_data, as.numeric(user_id), movies_df, top_n = 100\n",
        "  )\n",
        "\n",
        "  # If no CF results, use CB only\n",
        "  if (nrow(cf_recs) == 0) {\n",
        "    warning(\"Using content-based only due to empty CF results\")\n",
        "    return(cb_recs %>% head(n))\n",
        "  }\n",
        "\n",
        "  # Combine into hybrid recommendations\n",
        "  hybrid_recs <- create_hybrid_recommendations(\n",
        "    cf_recs, cb_recs, cf_weight = cf_weight, cb_weight = cb_weight, n = n\n",
        "  )\n",
        "\n",
        "  return(hybrid_recs)\n",
        "}"
      ],
      "metadata": {
        "id": "SIBMI29yXnkV"
      },
      "execution_count": null,
      "outputs": []
    },
    {
      "cell_type": "code",
      "source": [
        "models = run_full_pipeline(ratings, movies)\n",
        "\n",
        "user_id <- as.character(sample(unique(ratings_subset$userId), 1))\n",
        "hybrid_recs <- get_hybrid_recommendations(models, user_id)\n",
        "\n",
        "# Display top 10 hybrid recommendations\n",
        "print(paste(\"Top 10 Hybrid Recommendations for user:\", user_id))\n",
        "print(hybrid_recs[, c(\"movieId\", \"title\", \"hybrid_score\", \"cf_score\", \"cb_score\")])"
      ],
      "metadata": {
        "id": "XO0WojYnYgDW"
      },
      "execution_count": null,
      "outputs": []
    },
    {
      "cell_type": "markdown",
      "source": [
        "## **Visualization & Dashboard**"
      ],
      "metadata": {
        "id": "0J4RqgszVFbo"
      }
    },
    {
      "cell_type": "code",
      "source": [
        "# CODE TO TUNNEL THE LOCAL HOST CONNECTION IS GENERATER WITH AI\n",
        "# AFTER RUNNING PLEASE FIND password_log.txt IN FILES & COPY THE PASSWORD (IP ADDRESS)\n",
        "# PASTE INTO FIELD IN THE PUBLIC LINK PROVIDED TO ACCESS DEMO\n",
        "\n",
        "# Install required packages\n",
        "if (!require(\"shiny\")) install.packages(\"shiny\")\n",
        "if (!require(\"httpuv\")) install.packages(\"httpuv\")\n",
        "\n",
        "# Install localtunnel\n",
        "system(\"npm install -g localtunnel\")\n",
        "\n",
        "# Function to run Shiny app and expose it\n",
        "run_exposed_shiny <- function(app_dir = NULL, port = 5678) {\n",
        "  # Start localtunnel in the background\n",
        "  system(paste0(\"lt --port \", port, \" > tunnel_url.txt 2>&1 &\"))\n",
        "\n",
        "  # Give localtunnel a moment to start\n",
        "  Sys.sleep(3)\n",
        "\n",
        "  # Read the URL from the file\n",
        "  tunnel_url <- suppressWarnings(readLines(\"tunnel_url.txt\"))\n",
        "  public_url <- grep(\"https://\", tunnel_url, value = TRUE)[1]\n",
        "\n",
        "  # Log password from LocalTunnel\n",
        "  password <- system(\"curl -s https://loca.lt/mytunnelpassword\", intern = TRUE)\n",
        "\n",
        "  # Log the password\n",
        "  writeLines(password, \"password_log.txt\")\n",
        "\n",
        "  cat(\"Shiny app will be available at:\", public_url, \"\\n\")\n",
        "  cat(\"Tunnel password logged in password_log.txt\\n\")\n",
        "\n",
        "  # Run example or custom app\n",
        "  if (is.null(app_dir)) {\n",
        "    runExample(\"01_hello\", port = port, launch.browser = FALSE)\n",
        "  } else {\n",
        "    runApp(app_dir, port = port, launch.browser = FALSE)\n",
        "  }\n",
        "}\n",
        "\n",
        "# Run the example Shiny app\n",
        "run_exposed_shiny()\n"
      ],
      "metadata": {
        "id": "27YtkWjqJ5D3"
      },
      "execution_count": null,
      "outputs": []
    },
    {
      "cell_type": "markdown",
      "source": [
        "## **Appendix**"
      ],
      "metadata": {
        "id": "7fsgoGeU-zcp"
      }
    },
    {
      "cell_type": "markdown",
      "source": [
        "Code to check for structural errors:\n",
        "\n",
        "```python\n",
        "import os\n",
        "import hashlib\n",
        "\n",
        "def calculate_md5(file_path):\n",
        "    hash_md5 = hashlib.md5()\n",
        "    with open(file_path, \"rb\") as f:\n",
        "        for chunk in iter(lambda: f.read(4096), b\"\"):\n",
        "            hash_md5.update(chunk)\n",
        "    return hash_md5.hexdigest()\n",
        "\n",
        "def verify_checksums(checksums_file, base_dir):\n",
        "    print(\"\\nVerifying Checksums\")\n",
        "    with open(checksums_file, 'r') as f:\n",
        "        expected_checksums = {}\n",
        "        for line in f:\n",
        "            parts = line.strip().split()\n",
        "            if len(parts) == 2:\n",
        "                expected_checksums[parts[1]] = parts[0]\n",
        "    \n",
        "    results = []\n",
        "    for filename, expected in expected_checksums.items():\n",
        "        file_path = os.path.join(base_dir, filename)\n",
        "        if os.path.exists(file_path):\n",
        "            actual = calculate_md5(file_path)\n",
        "            match = actual == expected\n",
        "            results.append({\n",
        "                'file': filename,\n",
        "                'expected': expected,\n",
        "                'actual': actual,\n",
        "                'match': match\n",
        "            })\n",
        "            status = \"PASS\" if match else \"FAIL\"\n",
        "            print(f\"{status} - {filename}\")\n",
        "        else:\n",
        "            print(f\"FAIL - {filename} (File not found)\")\n",
        "            results.append({\n",
        "                'file': filename,\n",
        "                'expected': expected,\n",
        "                'actual': 'File not found',\n",
        "                'match': False\n",
        "            })\n",
        "    \n",
        "    return results\n",
        "\n",
        "def main():\n",
        "    base_dir = r\"D:\\storage\\ml-32m\\ml-32m\"\n",
        "    checksums_file = os.path.join(base_dir, \"checksums.txt\")\n",
        "    \n",
        "    checksum_results = verify_checksums(checksums_file, base_dir)\n",
        "    \n",
        "    all_checksums_ok = all(result['match'] for result in checksum_results)\n",
        "    if all_checksums_ok:\n",
        "        print(\"All file checksums match\")\n",
        "    else:\n",
        "        print(\"Some file checksums don't match\")\n",
        "\n",
        "if __name__ == \"__main__\":\n",
        "    main()\n",
        "```"
      ],
      "metadata": {
        "id": "2Mr2rwkG-10X"
      }
    }
  ]
}